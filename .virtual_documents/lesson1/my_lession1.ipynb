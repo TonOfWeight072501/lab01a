








# lenh 1 - xuat chu
print("Hello,Python World!!!")





%run ex0_hello_world.py



