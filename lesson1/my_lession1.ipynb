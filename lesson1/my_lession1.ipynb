{
 "cells": [
  {
   "cell_type": "markdown",
   "id": "f446c2ba-4a95-4573-80a3-937e65553934",
   "metadata": {
    "panel-layout": {
     "height": 60.57500457763672,
     "visible": true,
     "width": 100
    }
   },
   "source": [
    "# Thuc hanh tri tue nhan tao Buoi 1\n"
   ]
  },
  {
   "cell_type": "markdown",
   "id": "eccf8685-1227-46b7-b76b-754674385c04",
   "metadata": {
    "panel-layout": {
     "height": 50.8125114440918,
     "visible": true,
     "width": 100
    }
   },
   "source": [
    "## Noi dung thuc hanh"
   ]
  },
  {
   "cell_type": "markdown",
   "id": "9226aa47-f76b-4fc6-ab89-279094526145",
   "metadata": {
    "panel-layout": {
     "height": 10,
     "visible": true,
     "width": 100
    }
   },
   "source": [
    "### In chu ra man hinh"
   ]
  },
  {
   "cell_type": "code",
   "execution_count": 2,
   "id": "4ad7600c-c472-4db5-a1bb-da4c68893d16",
   "metadata": {},
   "outputs": [
    {
     "name": "stdout",
     "output_type": "stream",
     "text": [
      "Hello,Python World!!!\n"
     ]
    }
   ],
   "source": [
    "# lenh 1 - xuat chu\n",
    "print(\"Hello,Python World!!!\")"
   ]
  },
  {
   "cell_type": "markdown",
   "id": "105851e1-805d-4536-9895-f6c9521447c0",
   "metadata": {},
   "source": [
    "# Ket thuc"
   ]
  },
  {
   "cell_type": "code",
   "execution_count": 3,
   "id": "7ab84539-3300-42a9-830a-06d6047d7168",
   "metadata": {},
   "outputs": [
    {
     "name": "stdout",
     "output_type": "stream",
     "text": [
      "Hello,Python World\n"
     ]
    }
   ],
   "source": [
    "%run ex0_hello_world.py"
   ]
  },
  {
   "cell_type": "code",
   "execution_count": null,
   "id": "baff246b-4d3a-40b3-b158-1c41efe959b1",
   "metadata": {},
   "outputs": [],
   "source": []
  }
 ],
 "metadata": {
  "kernelspec": {
   "display_name": "Python 3 (ipykernel)",
   "language": "python",
   "name": "python3"
  },
  "language_info": {
   "codemirror_mode": {
    "name": "ipython",
    "version": 3
   },
   "file_extension": ".py",
   "mimetype": "text/x-python",
   "name": "python",
   "nbconvert_exporter": "python",
   "pygments_lexer": "ipython3",
   "version": "3.13.5"
  },
  "panel-cell-order": [
   "f446c2ba-4a95-4573-80a3-937e65553934",
   "eccf8685-1227-46b7-b76b-754674385c04",
   "9226aa47-f76b-4fc6-ab89-279094526145"
  ]
 },
 "nbformat": 4,
 "nbformat_minor": 5
}
